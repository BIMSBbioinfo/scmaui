{
 "cells": [
  {
   "cell_type": "markdown",
   "id": "c2c6bec1",
   "metadata": {},
   "source": [
    "Example notebook demonstrating scMaui on single-cell multi-omics toy data."
   ]
  },
  {
   "cell_type": "code",
   "execution_count": 1,
   "id": "07331e8b",
   "metadata": {
    "execution": {
     "iopub.execute_input": "2021-08-31T10:40:31.690896Z",
     "iopub.status.busy": "2021-08-31T10:40:31.690442Z",
     "iopub.status.idle": "2021-08-31T10:40:34.137170Z",
     "shell.execute_reply": "2021-08-31T10:40:34.137516Z"
    }
   },
   "outputs": [],
   "source": [
    "import os\n",
    "import pkg_resources\n",
    "from scmaui.data import load_data\n",
    "from scmaui.data import SCDataset\n",
    "from scmaui.utils import get_model_params\n",
    "from scmaui.ensembles import EnsembleVAE"
   ]
  },
  {
   "cell_type": "markdown",
   "id": "acf9d36d",
   "metadata": {},
   "source": [
    "## 1) Loading data"
   ]
  },
  {
   "cell_type": "code",
   "execution_count": 2,
   "id": "3e60fe6b",
   "metadata": {
    "execution": {
     "iopub.execute_input": "2021-08-31T10:40:34.141714Z",
     "iopub.status.busy": "2021-08-31T10:40:34.141315Z",
     "iopub.status.idle": "2021-08-31T10:40:34.143308Z",
     "shell.execute_reply": "2021-08-31T10:40:34.142984Z"
    }
   },
   "outputs": [],
   "source": [
    "data_path = pkg_resources.resource_filename('scmaui', 'resources/')\n",
    "gtx = os.path.join(data_path, 'gtx.h5ad')\n",
    "peaks = os.path.join(data_path, 'peaks.h5ad')"
   ]
  },
  {
   "cell_type": "markdown",
   "id": "25f5d8b1",
   "metadata": {},
   "source": [
    "`peaks.h5ad` and `gtx.h5ad` contain 100 cells each of which 50 cells are shared"
   ]
  },
  {
   "cell_type": "code",
   "execution_count": 3,
   "id": "417ff763",
   "metadata": {
    "execution": {
     "iopub.execute_input": "2021-08-31T10:40:34.184470Z",
     "iopub.status.busy": "2021-08-31T10:40:34.150855Z",
     "iopub.status.idle": "2021-08-31T10:40:34.837120Z",
     "shell.execute_reply": "2021-08-31T10:40:34.836753Z"
    }
   },
   "outputs": [
    {
     "data": {
      "text/plain": [
       "{'input': [AnnData object with n_obs × n_vars = 100 × 35300\n",
       "      var: 'interval', 'genename', 'ensid', 'genome', 'feature_type', 'chrom', 'start', 'end', 'view'\n",
       "      uns: 'view'\n",
       "      obsm: 'mask',\n",
       "  AnnData object with n_obs × n_vars = 100 × 95482\n",
       "      obs: 'logreads', 'sample'\n",
       "      var: 'interval', 'genename', 'ensid', 'genome', 'feature_type', 'chrom', 'start', 'end', 'view'\n",
       "      uns: 'view'\n",
       "      obsm: 'mask'],\n",
       " 'output': [AnnData object with n_obs × n_vars = 100 × 35300\n",
       "      var: 'interval', 'genename', 'ensid', 'genome', 'feature_type', 'chrom', 'start', 'end', 'view'\n",
       "      uns: 'view'\n",
       "      obsm: 'mask',\n",
       "  AnnData object with n_obs × n_vars = 100 × 95482\n",
       "      obs: 'logreads', 'sample'\n",
       "      var: 'interval', 'genename', 'ensid', 'genome', 'feature_type', 'chrom', 'start', 'end', 'view'\n",
       "      uns: 'view'\n",
       "      obsm: 'mask']}"
      ]
     },
     "execution_count": 1,
     "metadata": {},
     "output_type": "execute_result"
    }
   ],
   "source": [
    "adatas = load_data([gtx, peaks], names=['gtx', 'peaks'])\n",
    "adatas"
   ]
  },
  {
   "cell_type": "markdown",
   "id": "9e836557",
   "metadata": {},
   "source": [
    "We can construct a dataset considering only the intersection of cells like below"
   ]
  },
  {
   "cell_type": "code",
   "execution_count": 4,
   "id": "914cb074",
   "metadata": {
    "execution": {
     "iopub.execute_input": "2021-08-31T10:40:34.840690Z",
     "iopub.status.busy": "2021-08-31T10:40:34.840319Z",
     "iopub.status.idle": "2021-08-31T10:40:35.061322Z",
     "shell.execute_reply": "2021-08-31T10:40:35.060960Z"
    }
   },
   "outputs": [
    {
     "data": {
      "text/plain": [
       "Inputs: non-missing/samples x features\n",
       "\tgtx: 50/50 x 35300\n",
       "\tpeaks: 50/50 x 95482\n",
       "Outputs:\n",
       "\tgtx: 50/50 x 35300\n",
       "\tpeaks: 50/50 x 95482\n",
       "0 Adversarials: []\n",
       "0 Conditionals: []"
      ]
     },
     "execution_count": 1,
     "metadata": {},
     "output_type": "execute_result"
    }
   ],
   "source": [
    "dataset = SCDataset(adatas, losses=['negbinom', 'negmul'], union=False)\n",
    "dataset"
   ]
  },
  {
   "cell_type": "markdown",
   "id": "ce5e72fb",
   "metadata": {},
   "source": [
    "or use the union of cells, in which case missing modalities are kept for the analysis"
   ]
  },
  {
   "cell_type": "markdown",
   "id": "1be5e7fb",
   "metadata": {},
   "source": [
    "We can also specify covariates that might be used as conditional input or adversarial training labels:"
   ]
  },
  {
   "cell_type": "code",
   "execution_count": 5,
   "id": "5fdf72e8",
   "metadata": {
    "execution": {
     "iopub.execute_input": "2021-08-31T10:40:35.064639Z",
     "iopub.status.busy": "2021-08-31T10:40:35.064268Z",
     "iopub.status.idle": "2021-08-31T10:40:35.163894Z",
     "shell.execute_reply": "2021-08-31T10:40:35.164209Z"
    }
   },
   "outputs": [
    {
     "data": {
      "text/plain": [
       "Inputs: non-missing/samples x features\n",
       "\tgtx: 100/150 x 35300\n",
       "\tpeaks: 100/150 x 95482\n",
       "Outputs:\n",
       "\tgtx: 100/150 x 35300\n",
       "\tpeaks: 100/150 x 95482\n",
       "1 Adversarials: ['logreads']\n",
       "1 Conditionals: ['sample']"
      ]
     },
     "execution_count": 1,
     "metadata": {},
     "output_type": "execute_result"
    }
   ],
   "source": [
    "dataset = SCDataset(adatas, losses=['negbinom', 'negmul'], union=True, adversarial=['logreads'], conditional=['sample'])\n",
    "dataset"
   ]
  },
  {
   "cell_type": "code",
   "execution_count": 6,
   "id": "9057120f",
   "metadata": {
    "execution": {
     "iopub.execute_input": "2021-08-31T10:40:35.167362Z",
     "iopub.status.busy": "2021-08-31T10:40:35.167000Z",
     "iopub.status.idle": "2021-08-31T10:40:35.254587Z",
     "shell.execute_reply": "2021-08-31T10:40:35.254913Z"
    }
   },
   "outputs": [
    {
     "data": {
      "text/plain": [
       "Inputs: non-missing/samples x features\n",
       "\tgtx: 100/150 x 35300\n",
       "\tpeaks: 100/150 x 95482\n",
       "Outputs:\n",
       "\tgtx: 100/150 x 35300\n",
       "\tpeaks: 100/150 x 95482\n",
       "0 Adversarials: []\n",
       "0 Conditionals: []"
      ]
     },
     "execution_count": 1,
     "metadata": {},
     "output_type": "execute_result"
    }
   ],
   "source": [
    "dataset = SCDataset(adatas, losses=['negbinom', 'negmul'], union=True)\n",
    "dataset"
   ]
  },
  {
   "cell_type": "markdown",
   "id": "1ddcc321",
   "metadata": {},
   "source": [
    "## 2) Instantiate a scMaui model"
   ]
  },
  {
   "cell_type": "markdown",
   "id": "f55c2e3b",
   "metadata": {},
   "source": [
    "First we obtain some default parameters for the model, which are informed by the dataset dimensions:"
   ]
  },
  {
   "cell_type": "code",
   "execution_count": 7,
   "id": "dc4e0231",
   "metadata": {
    "execution": {
     "iopub.execute_input": "2021-08-31T10:40:35.258178Z",
     "iopub.status.busy": "2021-08-31T10:40:35.257807Z",
     "iopub.status.idle": "2021-08-31T10:40:35.300541Z",
     "shell.execute_reply": "2021-08-31T10:40:35.300129Z"
    }
   },
   "outputs": [
    {
     "data": {
      "text/plain": [
       "OrderedDict([('nunits_encoder', 32),\n",
       "             ('nlayers_encoder', 5),\n",
       "             ('nunits_decoder', 20),\n",
       "             ('nlayers_decoder', 1),\n",
       "             ('dropout_input', 0.1),\n",
       "             ('dropout_encoder', 0.0),\n",
       "             ('dropout_decoder', 0.0),\n",
       "             ('nunits_adversary', 128),\n",
       "             ('nlayers_adversary', 2),\n",
       "             ('nlatent', 10),\n",
       "             ('nmixcomp', 1),\n",
       "             ('input_modality', ['gtx', 'peaks']),\n",
       "             ('output_modality', ['gtx', 'peaks']),\n",
       "             ('adversarial_name', []),\n",
       "             ('adversarial_dim', []),\n",
       "             ('adversarial_type', []),\n",
       "             ('conditional_name', []),\n",
       "             ('conditional_dim', []),\n",
       "             ('conditional_type', []),\n",
       "             ('losses', ['negbinom', 'negmul'])])"
      ]
     },
     "execution_count": 1,
     "metadata": {},
     "output_type": "execute_result"
    }
   ],
   "source": [
    "params = get_model_params(dataset)\n",
    "params"
   ]
  },
  {
   "cell_type": "markdown",
   "id": "770756f8",
   "metadata": {},
   "source": [
    "You can adjust the default settings by overwriting the dictionary entries"
   ]
  },
  {
   "cell_type": "code",
   "execution_count": 8,
   "id": "942a527a",
   "metadata": {
    "execution": {
     "iopub.execute_input": "2021-08-31T10:40:35.303756Z",
     "iopub.status.busy": "2021-08-31T10:40:35.303382Z",
     "iopub.status.idle": "2021-08-31T10:40:35.305772Z",
     "shell.execute_reply": "2021-08-31T10:40:35.306085Z"
    }
   },
   "outputs": [
    {
     "name": "stdout",
     "output_type": "stream",
     "text": [
      "using vae\n"
     ]
    }
   ],
   "source": [
    "ensemble = EnsembleVAE(params=params)"
   ]
  },
  {
   "cell_type": "markdown",
   "id": "5ef71d78",
   "metadata": {},
   "source": [
    "## 3) Fit a model"
   ]
  },
  {
   "cell_type": "code",
   "execution_count": 9,
   "id": "cf1632a3",
   "metadata": {
    "execution": {
     "iopub.execute_input": "2021-08-31T10:40:35.308915Z",
     "iopub.status.busy": "2021-08-31T10:40:35.308516Z",
     "iopub.status.idle": "2021-08-31T10:40:52.286827Z",
     "shell.execute_reply": "2021-08-31T10:40:52.287146Z"
    }
   },
   "outputs": [
    {
     "name": "stdout",
     "output_type": "stream",
     "text": [
      "Run model 1\n",
      "Epoch 1/10\n",
      "2/2 [==============================] - 6s 1s/step - kl: 25847.8466 - recon: 49685.6732 - loss: 75533.5195 - val_kl: 11002.7549 - val_recon: 46223.3906 - val_loss: 57226.1445\n",
      "Epoch 2/10\n",
      "2/2 [==============================] - 0s 191ms/step - kl: 20531.6719 - recon: 46138.6497 - loss: 66670.3229 - val_kl: 3014.1675 - val_recon: 43720.0625 - val_loss: 46734.2305\n",
      "Epoch 3/10\n",
      "2/2 [==============================] - 0s 188ms/step - kl: 13133.5026 - recon: 43431.4401 - loss: 56564.9427 - val_kl: 5102.6499 - val_recon: 38607.4609 - val_loss: 43710.1094\n",
      "Epoch 4/10\n",
      "2/2 [==============================] - 0s 190ms/step - kl: 17183.7620 - recon: 36372.3737 - loss: 53556.1354 - val_kl: 12206.4707 - val_recon: 31205.7109 - val_loss: 43412.1797\n",
      "Epoch 5/10\n",
      "2/2 [==============================] - 0s 198ms/step - kl: 26764.2422 - recon: 30504.1016 - loss: 57268.3438 - val_kl: 10891.2529 - val_recon: 27647.3965 - val_loss: 38538.6484\n",
      "Epoch 6/10\n",
      "2/2 [==============================] - 0s 189ms/step - kl: 19075.2161 - recon: 26048.9388 - loss: 45124.1536 - val_kl: 7878.5996 - val_recon: 26761.1445 - val_loss: 34639.7422\n",
      "Epoch 7/10\n",
      "2/2 [==============================] - 0s 180ms/step - kl: 16053.1055 - recon: 23851.1491 - loss: 39904.2539 - val_kl: 7042.4316 - val_recon: 23168.0742 - val_loss: 30210.5059\n",
      "Epoch 8/10\n",
      "2/2 [==============================] - 0s 189ms/step - kl: 14999.1624 - recon: 21612.8268 - loss: 36611.9883 - val_kl: 7947.4297 - val_recon: 21772.3105 - val_loss: 29719.7402\n",
      "Epoch 9/10\n",
      "2/2 [==============================] - 0s 187ms/step - kl: 15195.8206 - recon: 20795.2734 - loss: 35991.0951 - val_kl: 7936.5830 - val_recon: 21110.5840 - val_loss: 29047.1680\n",
      "Epoch 10/10\n",
      "2/2 [==============================] - 0s 198ms/step - kl: 12448.8079 - recon: 19334.6810 - loss: 31783.4896 - val_kl: 5905.8413 - val_recon: 20360.4688 - val_loss: 26266.3105\n"
     ]
    },
    {
     "data": {
      "text/plain": [
       "[<tensorflow.python.keras.callbacks.History at 0x7f888edf41d0>]"
      ]
     },
     "execution_count": 1,
     "metadata": {},
     "output_type": "execute_result"
    }
   ],
   "source": [
    "ensemble.fit(dataset, epochs=10)"
   ]
  },
  {
   "cell_type": "code",
   "execution_count": 10,
   "id": "18eacdef",
   "metadata": {
    "execution": {
     "iopub.execute_input": "2021-08-31T10:40:52.291466Z",
     "iopub.status.busy": "2021-08-31T10:40:52.290339Z",
     "iopub.status.idle": "2021-08-31T10:40:52.308449Z",
     "shell.execute_reply": "2021-08-31T10:40:52.308120Z"
    }
   },
   "outputs": [
    {
     "name": "stdout",
     "output_type": "stream",
     "text": [
      "Model: \"encoder\"\n",
      "__________________________________________________________________________________________________\n",
      "Layer (type)                    Output Shape         Param #     Connected to                     \n",
      "==================================================================================================\n",
      "modality_gtx (InputLayer)       [(None, 35300)]      0                                            \n",
      "__________________________________________________________________________________________________\n",
      "modality_peaks (InputLayer)     [(None, 95482)]      0                                            \n",
      "__________________________________________________________________________________________________\n",
      "dropout (Dropout)               (None, 35300)        0           modality_gtx[0][0]               \n",
      "__________________________________________________________________________________________________\n",
      "dropout_1 (Dropout)             (None, 95482)        0           modality_peaks[0][0]             \n",
      "__________________________________________________________________________________________________\n",
      "dense (Dense)                   (None, 32)           1129632     dropout[0][0]                    \n",
      "__________________________________________________________________________________________________\n",
      "dense_8 (Dense)                 (None, 32)           3055456     dropout_1[0][0]                  \n",
      "__________________________________________________________________________________________________\n",
      "layer_normalization (LayerNorma (None, 32)           64          dense[0][0]                      \n",
      "__________________________________________________________________________________________________\n",
      "layer_normalization_5 (LayerNor (None, 32)           64          dense_8[0][0]                    \n",
      "__________________________________________________________________________________________________\n",
      "dense_1 (Dense)                 (None, 32)           1056        layer_normalization[0][0]        \n",
      "__________________________________________________________________________________________________\n",
      "dense_9 (Dense)                 (None, 32)           1056        layer_normalization_5[0][0]      \n",
      "__________________________________________________________________________________________________\n",
      "add (Add)                       (None, 32)           0           dense[0][0]                      \n",
      "                                                                 dense_1[0][0]                    \n",
      "__________________________________________________________________________________________________\n",
      "add_5 (Add)                     (None, 32)           0           dense_8[0][0]                    \n",
      "                                                                 dense_9[0][0]                    \n",
      "__________________________________________________________________________________________________\n",
      "layer_normalization_1 (LayerNor (None, 32)           64          add[0][0]                        \n",
      "__________________________________________________________________________________________________\n",
      "layer_normalization_6 (LayerNor (None, 32)           64          add_5[0][0]                      \n",
      "__________________________________________________________________________________________________\n",
      "dense_2 (Dense)                 (None, 32)           1056        layer_normalization_1[0][0]      \n",
      "__________________________________________________________________________________________________\n",
      "dense_10 (Dense)                (None, 32)           1056        layer_normalization_6[0][0]      \n",
      "__________________________________________________________________________________________________\n",
      "add_1 (Add)                     (None, 32)           0           dense[0][0]                      \n",
      "                                                                 dense_2[0][0]                    \n",
      "__________________________________________________________________________________________________\n",
      "add_6 (Add)                     (None, 32)           0           dense_8[0][0]                    \n",
      "                                                                 dense_10[0][0]                   \n",
      "__________________________________________________________________________________________________\n",
      "layer_normalization_2 (LayerNor (None, 32)           64          add_1[0][0]                      \n",
      "__________________________________________________________________________________________________\n",
      "layer_normalization_7 (LayerNor (None, 32)           64          add_6[0][0]                      \n",
      "__________________________________________________________________________________________________\n",
      "dense_3 (Dense)                 (None, 32)           1056        layer_normalization_2[0][0]      \n",
      "__________________________________________________________________________________________________\n",
      "dense_11 (Dense)                (None, 32)           1056        layer_normalization_7[0][0]      \n",
      "__________________________________________________________________________________________________\n",
      "add_2 (Add)                     (None, 32)           0           dense[0][0]                      \n",
      "                                                                 dense_3[0][0]                    \n",
      "__________________________________________________________________________________________________\n",
      "add_7 (Add)                     (None, 32)           0           dense_8[0][0]                    \n",
      "                                                                 dense_11[0][0]                   \n",
      "__________________________________________________________________________________________________\n",
      "layer_normalization_3 (LayerNor (None, 32)           64          add_2[0][0]                      \n",
      "__________________________________________________________________________________________________\n",
      "layer_normalization_8 (LayerNor (None, 32)           64          add_7[0][0]                      \n",
      "__________________________________________________________________________________________________\n",
      "dense_4 (Dense)                 (None, 32)           1056        layer_normalization_3[0][0]      \n",
      "__________________________________________________________________________________________________\n",
      "dense_12 (Dense)                (None, 32)           1056        layer_normalization_8[0][0]      \n",
      "__________________________________________________________________________________________________\n",
      "add_3 (Add)                     (None, 32)           0           dense[0][0]                      \n",
      "                                                                 dense_4[0][0]                    \n",
      "__________________________________________________________________________________________________\n",
      "add_8 (Add)                     (None, 32)           0           dense_8[0][0]                    \n",
      "                                                                 dense_12[0][0]                   \n",
      "__________________________________________________________________________________________________\n",
      "layer_normalization_4 (LayerNor (None, 32)           64          add_3[0][0]                      \n",
      "__________________________________________________________________________________________________\n",
      "layer_normalization_9 (LayerNor (None, 32)           64          add_8[0][0]                      \n",
      "__________________________________________________________________________________________________\n",
      "dense_5 (Dense)                 (None, 32)           1056        layer_normalization_4[0][0]      \n",
      "__________________________________________________________________________________________________\n",
      "dense_13 (Dense)                (None, 32)           1056        layer_normalization_9[0][0]      \n",
      "__________________________________________________________________________________________________\n",
      "add_4 (Add)                     (None, 32)           0           dense[0][0]                      \n",
      "                                                                 dense_5[0][0]                    \n",
      "__________________________________________________________________________________________________\n",
      "add_9 (Add)                     (None, 32)           0           dense_8[0][0]                    \n",
      "                                                                 dense_13[0][0]                   \n",
      "__________________________________________________________________________________________________\n",
      "dense_7 (Dense)                 (None, 10)           330         add_4[0][0]                      \n",
      "__________________________________________________________________________________________________\n",
      "dense_15 (Dense)                (None, 10)           330         add_9[0][0]                      \n",
      "__________________________________________________________________________________________________\n",
      "dense_6 (Dense)                 (None, 10)           330         add_4[0][0]                      \n",
      "__________________________________________________________________________________________________\n",
      "dense_14 (Dense)                (None, 10)           330         add_9[0][0]                      \n",
      "__________________________________________________________________________________________________\n",
      "clip_layer (ClipLayer)          (None, 10)           0           dense_7[0][0]                    \n",
      "__________________________________________________________________________________________________\n",
      "clip_layer_1 (ClipLayer)        (None, 10)           0           dense_15[0][0]                   \n",
      "__________________________________________________________________________________________________\n",
      "mask_gtx (InputLayer)           [(None, 1)]          0                                            \n",
      "__________________________________________________________________________________________________\n",
      "mask_peaks (InputLayer)         [(None, 1)]          0                                            \n",
      "__________________________________________________________________________________________________\n",
      "z_mean (JointMean)              (None, 10)           0           dense_6[0][0]                    \n",
      "                                                                 dense_14[0][0]                   \n",
      "                                                                 clip_layer[0][0]                 \n",
      "                                                                 clip_layer_1[0][0]               \n",
      "                                                                 mask_gtx[0][0]                   \n",
      "                                                                 mask_peaks[0][0]                 \n",
      "__________________________________________________________________________________________________\n",
      "z_sigma (JointSigma)            (None, 10)           0           clip_layer[0][0]                 \n",
      "                                                                 clip_layer_1[0][0]               \n",
      "                                                                 mask_gtx[0][0]                   \n",
      "                                                                 mask_peaks[0][0]                 \n",
      "__________________________________________________________________________________________________\n",
      "k_lloss_layer (KLlossLayer)     ((None, 10), (None,  0           z_mean[0][0]                     \n",
      "                                                                 z_sigma[0][0]                    \n",
      "__________________________________________________________________________________________________\n",
      "random_latent (Sampling)        (None, 10)           0           k_lloss_layer[0][0]              \n",
      "                                                                 k_lloss_layer[0][1]              \n",
      "==================================================================================================\n",
      "Total params: 4,197,608\n",
      "Trainable params: 4,197,608\n",
      "Non-trainable params: 0\n",
      "__________________________________________________________________________________________________\n",
      "Model: \"decoder\"\n",
      "__________________________________________________________________________________________________\n",
      "Layer (type)                    Output Shape         Param #     Connected to                     \n",
      "==================================================================================================\n",
      "latent_input (InputLayer)       [(None, 10)]         0                                            \n",
      "__________________________________________________________________________________________________\n",
      "intercept_ (InputLayer)         [(None, 1)]          0                                            \n",
      "__________________________________________________________________________________________________\n",
      "concatenate (Concatenate)       (None, 11)           0           latent_input[0][0]               \n",
      "                                                                 intercept_[0][0]                 \n",
      "__________________________________________________________________________________________________\n",
      "concatenate_1 (Concatenate)     (None, 11)           0           latent_input[0][0]               \n",
      "                                                                 intercept_[0][0]                 \n",
      "__________________________________________________________________________________________________\n",
      "dense_16 (Dense)                (None, 20)           240         concatenate[0][0]                \n",
      "__________________________________________________________________________________________________\n",
      "dense_20 (Dense)                (None, 20)           240         concatenate_1[0][0]              \n",
      "__________________________________________________________________________________________________\n",
      "dropout_2 (Dropout)             (None, 20)           0           dense_16[0][0]                   \n",
      "__________________________________________________________________________________________________\n",
      "dense_19 (Dense)                (None, 1)            2           intercept_[0][0]                 \n",
      "__________________________________________________________________________________________________\n",
      "dropout_3 (Dropout)             (None, 20)           0           dense_20[0][0]                   \n",
      "__________________________________________________________________________________________________\n",
      "dense_23 (Dense)                (None, 1)            2           intercept_[0][0]                 \n",
      "__________________________________________________________________________________________________\n",
      "dense_17 (Dense)                (None, 35300)        741300      dropout_2[0][0]                  \n",
      "__________________________________________________________________________________________________\n",
      "dense_18 (Dense)                (None, 35300)        70600       intercept_[0][0]                 \n",
      "__________________________________________________________________________________________________\n",
      "activation (Activation)         (None, 1)            0           dense_19[0][0]                   \n",
      "__________________________________________________________________________________________________\n",
      "dense_21 (Dense)                (None, 95482)        2005122     dropout_3[0][0]                  \n",
      "__________________________________________________________________________________________________\n",
      "dense_22 (Dense)                (None, 95482)        190964      intercept_[0][0]                 \n",
      "__________________________________________________________________________________________________\n",
      "activation_1 (Activation)       (None, 1)            0           dense_23[0][0]                   \n",
      "__________________________________________________________________________________________________\n",
      "target_gtx (InputLayer)         [(None, 35300)]      0                                            \n",
      "__________________________________________________________________________________________________\n",
      "target_mask_gtx (InputLayer)    [(None, 1)]          0                                            \n",
      "__________________________________________________________________________________________________\n",
      "add_10 (Add)                    (None, 35300)        0           dense_17[0][0]                   \n",
      "                                                                 dense_18[0][0]                   \n",
      "__________________________________________________________________________________________________\n",
      "clip_layer_2 (ClipLayer)        (None, 1)            0           activation[0][0]                 \n",
      "__________________________________________________________________________________________________\n",
      "target_peaks (InputLayer)       [(None, 95482)]      0                                            \n",
      "__________________________________________________________________________________________________\n",
      "target_mask_peaks (InputLayer)  [(None, 1)]          0                                            \n",
      "__________________________________________________________________________________________________\n",
      "add_11 (Add)                    (None, 95482)        0           dense_21[0][0]                   \n",
      "                                                                 dense_22[0][0]                   \n",
      "__________________________________________________________________________________________________\n",
      "clip_layer_3 (ClipLayer)        (None, 1)            0           activation_1[0][0]               \n",
      "__________________________________________________________________________________________________\n",
      "negative_binomial_endpoint (Neg (None, 35300)        0           target_gtx[0][0]                 \n",
      "                                                                 target_mask_gtx[0][0]            \n",
      "                                                                 add_10[0][0]                     \n",
      "                                                                 clip_layer_2[0][0]               \n",
      "__________________________________________________________________________________________________\n",
      "negative_multinomial_endpoint ( (None, 95482)        0           target_peaks[0][0]               \n",
      "                                                                 target_mask_peaks[0][0]          \n",
      "                                                                 add_11[0][0]                     \n",
      "                                                                 clip_layer_3[0][0]               \n",
      "==================================================================================================\n",
      "Total params: 3,008,470\n",
      "Trainable params: 3,008,470\n",
      "Non-trainable params: 0\n",
      "__________________________________________________________________________________________________\n"
     ]
    }
   ],
   "source": [
    "ensemble.summary()"
   ]
  },
  {
   "cell_type": "markdown",
   "id": "19789906",
   "metadata": {},
   "source": [
    "## 4) Obtain latent features"
   ]
  },
  {
   "cell_type": "code",
   "execution_count": 11,
   "id": "2d5905d0",
   "metadata": {
    "execution": {
     "iopub.execute_input": "2021-08-31T10:40:52.311133Z",
     "iopub.status.busy": "2021-08-31T10:40:52.310761Z",
     "iopub.status.idle": "2021-08-31T10:40:52.881095Z",
     "shell.execute_reply": "2021-08-31T10:40:52.880685Z"
    }
   },
   "outputs": [],
   "source": [
    "latent, latent_list = ensemble.encode(dataset)"
   ]
  },
  {
   "cell_type": "code",
   "execution_count": 12,
   "id": "09b0dadd",
   "metadata": {
    "execution": {
     "iopub.execute_input": "2021-08-31T10:40:52.884943Z",
     "iopub.status.busy": "2021-08-31T10:40:52.884568Z",
     "iopub.status.idle": "2021-08-31T10:40:52.895991Z",
     "shell.execute_reply": "2021-08-31T10:40:52.895668Z"
    }
   },
   "outputs": [
    {
     "data": {
      "text/html": [
       "<div>\n",
       "<style scoped>\n",
       "    .dataframe tbody tr th:only-of-type {\n",
       "        vertical-align: middle;\n",
       "    }\n",
       "\n",
       "    .dataframe tbody tr th {\n",
       "        vertical-align: top;\n",
       "    }\n",
       "\n",
       "    .dataframe thead th {\n",
       "        text-align: right;\n",
       "    }\n",
       "</style>\n",
       "<table border=\"1\" class=\"dataframe\">\n",
       "  <thead>\n",
       "    <tr style=\"text-align: right;\">\n",
       "      <th></th>\n",
       "      <th>D0-0</th>\n",
       "      <th>D0-1</th>\n",
       "      <th>D0-2</th>\n",
       "      <th>D0-3</th>\n",
       "      <th>D0-4</th>\n",
       "      <th>D0-5</th>\n",
       "      <th>D0-6</th>\n",
       "      <th>D0-7</th>\n",
       "      <th>D0-8</th>\n",
       "      <th>D0-9</th>\n",
       "    </tr>\n",
       "  </thead>\n",
       "  <tbody>\n",
       "    <tr>\n",
       "      <th>AACGACAAGGACCGCT-1</th>\n",
       "      <td>-22.525711</td>\n",
       "      <td>-23.246502</td>\n",
       "      <td>11.873528</td>\n",
       "      <td>17.557114</td>\n",
       "      <td>5.350068</td>\n",
       "      <td>-4.672046</td>\n",
       "      <td>6.651594</td>\n",
       "      <td>-4.901463</td>\n",
       "      <td>-11.669211</td>\n",
       "      <td>31.645901</td>\n",
       "    </tr>\n",
       "    <tr>\n",
       "      <th>AACTCACAGGGCTAAA-1</th>\n",
       "      <td>-25.071390</td>\n",
       "      <td>-23.022873</td>\n",
       "      <td>18.849289</td>\n",
       "      <td>23.621029</td>\n",
       "      <td>2.923560</td>\n",
       "      <td>-2.218641</td>\n",
       "      <td>9.376145</td>\n",
       "      <td>-6.429822</td>\n",
       "      <td>-7.987369</td>\n",
       "      <td>21.951593</td>\n",
       "    </tr>\n",
       "    <tr>\n",
       "      <th>AACTTAGTCACTTCAT-1</th>\n",
       "      <td>-20.167135</td>\n",
       "      <td>-18.211704</td>\n",
       "      <td>12.633711</td>\n",
       "      <td>6.566017</td>\n",
       "      <td>4.202653</td>\n",
       "      <td>-1.967656</td>\n",
       "      <td>-0.587730</td>\n",
       "      <td>-3.013824</td>\n",
       "      <td>-4.554582</td>\n",
       "      <td>10.412749</td>\n",
       "    </tr>\n",
       "    <tr>\n",
       "      <th>AAGTAGCCAGTTTGGC-1</th>\n",
       "      <td>-21.676241</td>\n",
       "      <td>-13.835787</td>\n",
       "      <td>8.214723</td>\n",
       "      <td>14.386309</td>\n",
       "      <td>9.693688</td>\n",
       "      <td>-14.296661</td>\n",
       "      <td>1.591737</td>\n",
       "      <td>-3.872440</td>\n",
       "      <td>-15.005081</td>\n",
       "      <td>29.036224</td>\n",
       "    </tr>\n",
       "    <tr>\n",
       "      <th>AAACCGCGTGAGGTAG-1</th>\n",
       "      <td>-40.491158</td>\n",
       "      <td>-40.159657</td>\n",
       "      <td>19.214733</td>\n",
       "      <td>30.098549</td>\n",
       "      <td>11.585256</td>\n",
       "      <td>-10.581953</td>\n",
       "      <td>9.407765</td>\n",
       "      <td>-10.816870</td>\n",
       "      <td>-22.702629</td>\n",
       "      <td>60.785679</td>\n",
       "    </tr>\n",
       "  </tbody>\n",
       "</table>\n",
       "</div>"
      ],
      "text/plain": [
       "                         D0-0       D0-1       D0-2       D0-3       D0-4  \\\n",
       "AACGACAAGGACCGCT-1 -22.525711 -23.246502  11.873528  17.557114   5.350068   \n",
       "AACTCACAGGGCTAAA-1 -25.071390 -23.022873  18.849289  23.621029   2.923560   \n",
       "AACTTAGTCACTTCAT-1 -20.167135 -18.211704  12.633711   6.566017   4.202653   \n",
       "AAGTAGCCAGTTTGGC-1 -21.676241 -13.835787   8.214723  14.386309   9.693688   \n",
       "AAACCGCGTGAGGTAG-1 -40.491158 -40.159657  19.214733  30.098549  11.585256   \n",
       "\n",
       "                         D0-5      D0-6       D0-7       D0-8       D0-9  \n",
       "AACGACAAGGACCGCT-1  -4.672046  6.651594  -4.901463 -11.669211  31.645901  \n",
       "AACTCACAGGGCTAAA-1  -2.218641  9.376145  -6.429822  -7.987369  21.951593  \n",
       "AACTTAGTCACTTCAT-1  -1.967656 -0.587730  -3.013824  -4.554582  10.412749  \n",
       "AAGTAGCCAGTTTGGC-1 -14.296661  1.591737  -3.872440 -15.005081  29.036224  \n",
       "AAACCGCGTGAGGTAG-1 -10.581953  9.407765 -10.816870 -22.702629  60.785679  "
      ]
     },
     "execution_count": 1,
     "metadata": {},
     "output_type": "execute_result"
    }
   ],
   "source": [
    "latent.head()"
   ]
  },
  {
   "cell_type": "markdown",
   "id": "857cd847",
   "metadata": {},
   "source": [
    "## 5) Obtain feature imputation"
   ]
  },
  {
   "cell_type": "code",
   "execution_count": 13,
   "id": "19686b66",
   "metadata": {
    "execution": {
     "iopub.execute_input": "2021-08-31T10:40:52.898245Z",
     "iopub.status.busy": "2021-08-31T10:40:52.897882Z",
     "iopub.status.idle": "2021-08-31T10:40:53.977357Z",
     "shell.execute_reply": "2021-08-31T10:40:53.977714Z"
    }
   },
   "outputs": [],
   "source": [
    "predicted = ensemble.impute(dataset)"
   ]
  },
  {
   "cell_type": "code",
   "execution_count": 14,
   "id": "cffffbe8",
   "metadata": {
    "execution": {
     "iopub.execute_input": "2021-08-31T10:40:53.981822Z",
     "iopub.status.busy": "2021-08-31T10:40:53.981448Z",
     "iopub.status.idle": "2021-08-31T10:40:53.983132Z",
     "shell.execute_reply": "2021-08-31T10:40:53.983432Z"
    }
   },
   "outputs": [
    {
     "data": {
      "text/plain": [
       "(150, 95482)"
      ]
     },
     "execution_count": 1,
     "metadata": {},
     "output_type": "execute_result"
    }
   ],
   "source": [
    "predicted[1].shape"
   ]
  },
  {
   "cell_type": "markdown",
   "id": "6ea9713a",
   "metadata": {},
   "source": [
    "## 6) Obtain a feature importance attribution"
   ]
  },
  {
   "cell_type": "code",
   "execution_count": 15,
   "id": "917b686a",
   "metadata": {
    "execution": {
     "iopub.execute_input": "2021-08-31T10:40:53.986237Z",
     "iopub.status.busy": "2021-08-31T10:40:53.985879Z",
     "iopub.status.idle": "2021-08-31T10:40:53.987444Z",
     "shell.execute_reply": "2021-08-31T10:40:53.987127Z"
    }
   },
   "outputs": [],
   "source": [
    "selected_cells = latent.index.tolist()[:10]"
   ]
  },
  {
   "cell_type": "code",
   "execution_count": 16,
   "id": "95734d71",
   "metadata": {
    "execution": {
     "iopub.execute_input": "2021-08-31T10:40:53.991342Z",
     "iopub.status.busy": "2021-08-31T10:40:53.990970Z",
     "iopub.status.idle": "2021-08-31T10:40:55.874315Z",
     "shell.execute_reply": "2021-08-31T10:40:55.874675Z"
    }
   },
   "outputs": [],
   "source": [
    "attributed = ensemble.explain(dataset, cellids=selected_cells)"
   ]
  },
  {
   "cell_type": "code",
   "execution_count": 17,
   "id": "1b9124df",
   "metadata": {
    "execution": {
     "iopub.execute_input": "2021-08-31T10:40:55.878644Z",
     "iopub.status.busy": "2021-08-31T10:40:55.878250Z",
     "iopub.status.idle": "2021-08-31T10:40:55.880344Z",
     "shell.execute_reply": "2021-08-31T10:40:55.880012Z"
    }
   },
   "outputs": [
    {
     "data": {
      "text/plain": [
       "array([[0., 0., 0., ..., 0., 0., 0.],\n",
       "       [0., 0., 0., ..., 0., 0., 0.],\n",
       "       [0., 0., 0., ..., 0., 0., 0.],\n",
       "       ...,\n",
       "       [0., 0., 0., ..., 0., 0., 0.],\n",
       "       [0., 0., 0., ..., 0., 0., 0.],\n",
       "       [0., 0., 0., ..., 0., 0., 0.]])"
      ]
     },
     "execution_count": 1,
     "metadata": {},
     "output_type": "execute_result"
    }
   ],
   "source": [
    "attributed[0]"
   ]
  }
 ],
 "metadata": {
  "kernelspec": {
   "display_name": "Python 3",
   "language": "python",
   "name": "python3"
  },
  "language_info": {
   "codemirror_mode": {
    "name": "ipython",
    "version": 3
   },
   "file_extension": ".py",
   "mimetype": "text/x-python",
   "name": "python",
   "nbconvert_exporter": "python",
   "pygments_lexer": "ipython3",
   "version": "3.7.10"
  }
 },
 "nbformat": 4,
 "nbformat_minor": 5
}
