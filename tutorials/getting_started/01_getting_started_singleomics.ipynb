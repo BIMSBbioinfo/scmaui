{
 "cells": [
  {
   "cell_type": "markdown",
   "id": "a1619d22",
   "metadata": {},
   "source": [
    "Example notebook demonstrating scMaui on single-cell gene expression toy data."
   ]
  },
  {
   "cell_type": "code",
   "execution_count": 1,
   "id": "4fadbe1e",
   "metadata": {
    "execution": {
     "iopub.execute_input": "2021-08-31T10:40:10.490923Z",
     "iopub.status.busy": "2021-08-31T10:40:10.490494Z",
     "iopub.status.idle": "2021-08-31T10:40:14.615724Z",
     "shell.execute_reply": "2021-08-31T10:40:14.615306Z"
    }
   },
   "outputs": [],
   "source": [
    "import os\n",
    "import pkg_resources\n",
    "from scmaui.data import load_data\n",
    "from scmaui.data import SCDataset\n",
    "from scmaui.utils import get_model_params\n",
    "from scmaui.ensembles import EnsembleVAE"
   ]
  },
  {
   "cell_type": "markdown",
   "id": "6416e15f",
   "metadata": {},
   "source": [
    "## 1) Loading data"
   ]
  },
  {
   "cell_type": "code",
   "execution_count": 2,
   "id": "69606efc",
   "metadata": {
    "execution": {
     "iopub.execute_input": "2021-08-31T10:40:14.619186Z",
     "iopub.status.busy": "2021-08-31T10:40:14.618818Z",
     "iopub.status.idle": "2021-08-31T10:40:14.620681Z",
     "shell.execute_reply": "2021-08-31T10:40:14.620311Z"
    }
   },
   "outputs": [],
   "source": [
    "data_path = pkg_resources.resource_filename('scmaui', 'resources/')\n",
    "gtx = os.path.join(data_path, 'gtx.h5ad')"
   ]
  },
  {
   "cell_type": "markdown",
   "id": "6dc41970",
   "metadata": {},
   "source": [
    "`gtx.h5ad` contain single-cell expression values of 100 cells"
   ]
  },
  {
   "cell_type": "code",
   "execution_count": 3,
   "id": "eef1e72a",
   "metadata": {
    "execution": {
     "iopub.execute_input": "2021-08-31T10:40:14.651559Z",
     "iopub.status.busy": "2021-08-31T10:40:14.631709Z",
     "iopub.status.idle": "2021-08-31T10:40:14.834224Z",
     "shell.execute_reply": "2021-08-31T10:40:14.834520Z"
    }
   },
   "outputs": [
    {
     "data": {
      "text/plain": [
       "{'input': [AnnData object with n_obs × n_vars = 100 × 35300\n",
       "      var: 'interval', 'genename', 'ensid', 'genome', 'feature_type', 'chrom', 'start', 'end', 'view'\n",
       "      uns: 'view'\n",
       "      obsm: 'mask'],\n",
       " 'output': [AnnData object with n_obs × n_vars = 100 × 35300\n",
       "      var: 'interval', 'genename', 'ensid', 'genome', 'feature_type', 'chrom', 'start', 'end', 'view'\n",
       "      uns: 'view'\n",
       "      obsm: 'mask']}"
      ]
     },
     "execution_count": 1,
     "metadata": {},
     "output_type": "execute_result"
    }
   ],
   "source": [
    "adatas = load_data([gtx], names=['gtx'])\n",
    "adatas"
   ]
  },
  {
   "cell_type": "markdown",
   "id": "5626780e",
   "metadata": {},
   "source": [
    "We can construct a dataset considering only the intersection of cells like below"
   ]
  },
  {
   "cell_type": "code",
   "execution_count": 4,
   "id": "cce75a62",
   "metadata": {
    "execution": {
     "iopub.execute_input": "2021-08-31T10:40:14.837437Z",
     "iopub.status.busy": "2021-08-31T10:40:14.837077Z",
     "iopub.status.idle": "2021-08-31T10:40:14.858213Z",
     "shell.execute_reply": "2021-08-31T10:40:14.857903Z"
    }
   },
   "outputs": [
    {
     "data": {
      "text/plain": [
       "Inputs: non-missing/samples x features\n",
       "\tgtx: 100/100 x 35300\n",
       "Outputs:\n",
       "\tgtx: 100/100 x 35300\n",
       "0 Adversarials: []\n",
       "0 Conditionals: []"
      ]
     },
     "execution_count": 1,
     "metadata": {},
     "output_type": "execute_result"
    }
   ],
   "source": [
    "dataset = SCDataset(adatas, losses=['negbinom'])\n",
    "dataset"
   ]
  },
  {
   "cell_type": "markdown",
   "id": "ff4b75ad",
   "metadata": {},
   "source": [
    "## 2) Instantiate a scMaui model"
   ]
  },
  {
   "cell_type": "markdown",
   "id": "21cd6fd3",
   "metadata": {},
   "source": [
    "First we obtain some default parameters for the model, which are informed by the dataset dimensions:"
   ]
  },
  {
   "cell_type": "code",
   "execution_count": 5,
   "id": "229bec7f",
   "metadata": {
    "execution": {
     "iopub.execute_input": "2021-08-31T10:40:14.861054Z",
     "iopub.status.busy": "2021-08-31T10:40:14.860696Z",
     "iopub.status.idle": "2021-08-31T10:40:14.869574Z",
     "shell.execute_reply": "2021-08-31T10:40:14.869266Z"
    }
   },
   "outputs": [
    {
     "data": {
      "text/plain": [
       "OrderedDict([('nunits_encoder', 32),\n",
       "             ('nlayers_encoder', 5),\n",
       "             ('nunits_decoder', 20),\n",
       "             ('nlayers_decoder', 1),\n",
       "             ('dropout_input', 0.1),\n",
       "             ('dropout_encoder', 0.0),\n",
       "             ('dropout_decoder', 0.0),\n",
       "             ('nunits_adversary', 128),\n",
       "             ('nlayers_adversary', 2),\n",
       "             ('nlatent', 10),\n",
       "             ('nmixcomp', 1),\n",
       "             ('input_modality', ['gtx']),\n",
       "             ('output_modality', ['gtx']),\n",
       "             ('adversarial_name', []),\n",
       "             ('adversarial_dim', []),\n",
       "             ('adversarial_type', []),\n",
       "             ('conditional_name', []),\n",
       "             ('conditional_dim', []),\n",
       "             ('conditional_type', []),\n",
       "             ('losses', ['negbinom'])])"
      ]
     },
     "execution_count": 1,
     "metadata": {},
     "output_type": "execute_result"
    }
   ],
   "source": [
    "params = get_model_params(dataset)\n",
    "params"
   ]
  },
  {
   "cell_type": "markdown",
   "id": "28deef2b",
   "metadata": {},
   "source": [
    "You can adjust the default settings by overwriting the dictionary entries"
   ]
  },
  {
   "cell_type": "code",
   "execution_count": 6,
   "id": "daa1a09e",
   "metadata": {
    "execution": {
     "iopub.execute_input": "2021-08-31T10:40:14.872646Z",
     "iopub.status.busy": "2021-08-31T10:40:14.872278Z",
     "iopub.status.idle": "2021-08-31T10:40:14.874465Z",
     "shell.execute_reply": "2021-08-31T10:40:14.874105Z"
    }
   },
   "outputs": [
    {
     "name": "stdout",
     "output_type": "stream",
     "text": [
      "using vae\n"
     ]
    }
   ],
   "source": [
    "ensemble = EnsembleVAE(params=params)"
   ]
  },
  {
   "cell_type": "markdown",
   "id": "38f0ec3b",
   "metadata": {},
   "source": [
    "## 3) Fit a model"
   ]
  },
  {
   "cell_type": "code",
   "execution_count": 7,
   "id": "09a32cf8",
   "metadata": {
    "execution": {
     "iopub.execute_input": "2021-08-31T10:40:14.877249Z",
     "iopub.status.busy": "2021-08-31T10:40:14.876886Z",
     "iopub.status.idle": "2021-08-31T10:40:24.473923Z",
     "shell.execute_reply": "2021-08-31T10:40:24.474214Z"
    }
   },
   "outputs": [
    {
     "name": "stdout",
     "output_type": "stream",
     "text": [
      "Run model 1\n",
      "2/2 [==============================] - 4s 698ms/step - kl: 55.0474 - recon: 35801.8203 - loss: 35856.8685 - val_kl: 279.0835 - val_recon: 34572.0117 - val_loss: 34851.0938\n"
     ]
    },
    {
     "data": {
      "text/plain": [
       "[<tensorflow.python.keras.callbacks.History at 0x7f9edc819f10>]"
      ]
     },
     "execution_count": 1,
     "metadata": {},
     "output_type": "execute_result"
    }
   ],
   "source": [
    "ensemble.fit(dataset, epochs=1)"
   ]
  },
  {
   "cell_type": "code",
   "execution_count": 8,
   "id": "7bf7101d",
   "metadata": {
    "execution": {
     "iopub.execute_input": "2021-08-31T10:40:24.478187Z",
     "iopub.status.busy": "2021-08-31T10:40:24.477818Z",
     "iopub.status.idle": "2021-08-31T10:40:24.490926Z",
     "shell.execute_reply": "2021-08-31T10:40:24.490599Z"
    }
   },
   "outputs": [
    {
     "name": "stdout",
     "output_type": "stream",
     "text": [
      "Model: \"encoder\"\n",
      "__________________________________________________________________________________________________\n",
      "Layer (type)                    Output Shape         Param #     Connected to                     \n",
      "==================================================================================================\n",
      "modality_gtx (InputLayer)       [(None, 35300)]      0                                            \n",
      "__________________________________________________________________________________________________\n",
      "dropout (Dropout)               (None, 35300)        0           modality_gtx[0][0]               \n",
      "__________________________________________________________________________________________________\n",
      "dense (Dense)                   (None, 32)           1129632     dropout[0][0]                    \n",
      "__________________________________________________________________________________________________\n",
      "layer_normalization (LayerNorma (None, 32)           64          dense[0][0]                      \n",
      "__________________________________________________________________________________________________\n",
      "dense_1 (Dense)                 (None, 32)           1056        layer_normalization[0][0]        \n",
      "__________________________________________________________________________________________________\n",
      "add (Add)                       (None, 32)           0           dense[0][0]                      \n",
      "                                                                 dense_1[0][0]                    \n",
      "__________________________________________________________________________________________________\n",
      "layer_normalization_1 (LayerNor (None, 32)           64          add[0][0]                        \n",
      "__________________________________________________________________________________________________\n",
      "dense_2 (Dense)                 (None, 32)           1056        layer_normalization_1[0][0]      \n",
      "__________________________________________________________________________________________________\n",
      "add_1 (Add)                     (None, 32)           0           dense[0][0]                      \n",
      "                                                                 dense_2[0][0]                    \n",
      "__________________________________________________________________________________________________\n",
      "layer_normalization_2 (LayerNor (None, 32)           64          add_1[0][0]                      \n",
      "__________________________________________________________________________________________________\n",
      "dense_3 (Dense)                 (None, 32)           1056        layer_normalization_2[0][0]      \n",
      "__________________________________________________________________________________________________\n",
      "add_2 (Add)                     (None, 32)           0           dense[0][0]                      \n",
      "                                                                 dense_3[0][0]                    \n",
      "__________________________________________________________________________________________________\n",
      "layer_normalization_3 (LayerNor (None, 32)           64          add_2[0][0]                      \n",
      "__________________________________________________________________________________________________\n",
      "dense_4 (Dense)                 (None, 32)           1056        layer_normalization_3[0][0]      \n",
      "__________________________________________________________________________________________________\n",
      "add_3 (Add)                     (None, 32)           0           dense[0][0]                      \n",
      "                                                                 dense_4[0][0]                    \n",
      "__________________________________________________________________________________________________\n",
      "layer_normalization_4 (LayerNor (None, 32)           64          add_3[0][0]                      \n",
      "__________________________________________________________________________________________________\n",
      "dense_5 (Dense)                 (None, 32)           1056        layer_normalization_4[0][0]      \n",
      "__________________________________________________________________________________________________\n",
      "add_4 (Add)                     (None, 32)           0           dense[0][0]                      \n",
      "                                                                 dense_5[0][0]                    \n",
      "__________________________________________________________________________________________________\n",
      "dense_7 (Dense)                 (None, 10)           330         add_4[0][0]                      \n",
      "__________________________________________________________________________________________________\n",
      "dense_6 (Dense)                 (None, 10)           330         add_4[0][0]                      \n",
      "__________________________________________________________________________________________________\n",
      "clip_layer (ClipLayer)          (None, 10)           0           dense_7[0][0]                    \n",
      "__________________________________________________________________________________________________\n",
      "mask_gtx (InputLayer)           [(None, 1)]          0                                            \n",
      "__________________________________________________________________________________________________\n",
      "z_mean (JointMean)              (None, 10)           0           dense_6[0][0]                    \n",
      "                                                                 clip_layer[0][0]                 \n",
      "                                                                 mask_gtx[0][0]                   \n",
      "__________________________________________________________________________________________________\n",
      "z_sigma (JointSigma)            (None, 10)           0           clip_layer[0][0]                 \n",
      "                                                                 mask_gtx[0][0]                   \n",
      "__________________________________________________________________________________________________\n",
      "k_lloss_layer (KLlossLayer)     ((None, 10), (None,  0           z_mean[0][0]                     \n",
      "                                                                 z_sigma[0][0]                    \n",
      "__________________________________________________________________________________________________\n",
      "random_latent (Sampling)        (None, 10)           0           k_lloss_layer[0][0]              \n",
      "                                                                 k_lloss_layer[0][1]              \n",
      "==================================================================================================\n",
      "Total params: 1,135,892\n",
      "Trainable params: 1,135,892\n",
      "Non-trainable params: 0\n",
      "__________________________________________________________________________________________________\n",
      "Model: \"decoder\"\n",
      "__________________________________________________________________________________________________\n",
      "Layer (type)                    Output Shape         Param #     Connected to                     \n",
      "==================================================================================================\n",
      "latent_input (InputLayer)       [(None, 10)]         0                                            \n",
      "__________________________________________________________________________________________________\n",
      "intercept_ (InputLayer)         [(None, 1)]          0                                            \n",
      "__________________________________________________________________________________________________\n",
      "concatenate (Concatenate)       (None, 11)           0           latent_input[0][0]               \n",
      "                                                                 intercept_[0][0]                 \n",
      "__________________________________________________________________________________________________\n",
      "dense_8 (Dense)                 (None, 20)           240         concatenate[0][0]                \n",
      "__________________________________________________________________________________________________\n",
      "dropout_1 (Dropout)             (None, 20)           0           dense_8[0][0]                    \n",
      "__________________________________________________________________________________________________\n",
      "dense_11 (Dense)                (None, 1)            2           intercept_[0][0]                 \n",
      "__________________________________________________________________________________________________\n",
      "dense_9 (Dense)                 (None, 35300)        741300      dropout_1[0][0]                  \n",
      "__________________________________________________________________________________________________\n",
      "dense_10 (Dense)                (None, 35300)        70600       intercept_[0][0]                 \n",
      "__________________________________________________________________________________________________\n",
      "activation (Activation)         (None, 1)            0           dense_11[0][0]                   \n",
      "__________________________________________________________________________________________________\n",
      "target_gtx (InputLayer)         [(None, 35300)]      0                                            \n",
      "__________________________________________________________________________________________________\n",
      "target_mask_gtx (InputLayer)    [(None, 1)]          0                                            \n",
      "__________________________________________________________________________________________________\n",
      "add_5 (Add)                     (None, 35300)        0           dense_9[0][0]                    \n",
      "                                                                 dense_10[0][0]                   \n",
      "__________________________________________________________________________________________________\n",
      "clip_layer_1 (ClipLayer)        (None, 1)            0           activation[0][0]                 \n",
      "__________________________________________________________________________________________________\n",
      "negative_binomial_endpoint (Neg (None, 35300)        0           target_gtx[0][0]                 \n",
      "                                                                 target_mask_gtx[0][0]            \n",
      "                                                                 add_5[0][0]                      \n",
      "                                                                 clip_layer_1[0][0]               \n",
      "==================================================================================================\n",
      "Total params: 812,142\n",
      "Trainable params: 812,142\n",
      "Non-trainable params: 0\n",
      "__________________________________________________________________________________________________\n"
     ]
    }
   ],
   "source": [
    "ensemble.summary()"
   ]
  },
  {
   "cell_type": "markdown",
   "id": "2cb38cdb",
   "metadata": {},
   "source": [
    "## 4) Obtain latent features"
   ]
  },
  {
   "cell_type": "markdown",
   "id": "b3a720b5",
   "metadata": {},
   "source": [
    "After having fitted a model, we can obtain the latent feature representation as follows"
   ]
  },
  {
   "cell_type": "code",
   "execution_count": 9,
   "id": "3828be2d",
   "metadata": {
    "execution": {
     "iopub.execute_input": "2021-08-31T10:40:24.493771Z",
     "iopub.status.busy": "2021-08-31T10:40:24.493390Z",
     "iopub.status.idle": "2021-08-31T10:40:24.766193Z",
     "shell.execute_reply": "2021-08-31T10:40:24.766459Z"
    }
   },
   "outputs": [],
   "source": [
    "latent, latent_list = ensemble.encode(dataset)"
   ]
  },
  {
   "cell_type": "code",
   "execution_count": 10,
   "id": "fe9b2d70",
   "metadata": {
    "execution": {
     "iopub.execute_input": "2021-08-31T10:40:24.770081Z",
     "iopub.status.busy": "2021-08-31T10:40:24.769718Z",
     "iopub.status.idle": "2021-08-31T10:40:24.784195Z",
     "shell.execute_reply": "2021-08-31T10:40:24.783899Z"
    }
   },
   "outputs": [
    {
     "data": {
      "text/html": [
       "<div>\n",
       "<style scoped>\n",
       "    .dataframe tbody tr th:only-of-type {\n",
       "        vertical-align: middle;\n",
       "    }\n",
       "\n",
       "    .dataframe tbody tr th {\n",
       "        vertical-align: top;\n",
       "    }\n",
       "\n",
       "    .dataframe thead th {\n",
       "        text-align: right;\n",
       "    }\n",
       "</style>\n",
       "<table border=\"1\" class=\"dataframe\">\n",
       "  <thead>\n",
       "    <tr style=\"text-align: right;\">\n",
       "      <th></th>\n",
       "      <th>D0-0</th>\n",
       "      <th>D0-1</th>\n",
       "      <th>D0-2</th>\n",
       "      <th>D0-3</th>\n",
       "      <th>D0-4</th>\n",
       "      <th>D0-5</th>\n",
       "      <th>D0-6</th>\n",
       "      <th>D0-7</th>\n",
       "      <th>D0-8</th>\n",
       "      <th>D0-9</th>\n",
       "    </tr>\n",
       "  </thead>\n",
       "  <tbody>\n",
       "    <tr>\n",
       "      <th>AACAAGCCAGGTTCAC-1</th>\n",
       "      <td>-11.653465</td>\n",
       "      <td>-2.619335</td>\n",
       "      <td>14.745419</td>\n",
       "      <td>-12.953723</td>\n",
       "      <td>-0.711892</td>\n",
       "      <td>-17.268864</td>\n",
       "      <td>11.574628</td>\n",
       "      <td>-10.910970</td>\n",
       "      <td>-5.023945</td>\n",
       "      <td>-5.228242</td>\n",
       "    </tr>\n",
       "    <tr>\n",
       "      <th>AAAGGTTAGGGTGGAT-1</th>\n",
       "      <td>-3.506031</td>\n",
       "      <td>-0.722704</td>\n",
       "      <td>3.907086</td>\n",
       "      <td>-2.428740</td>\n",
       "      <td>-0.466056</td>\n",
       "      <td>-3.780588</td>\n",
       "      <td>3.428963</td>\n",
       "      <td>-2.429952</td>\n",
       "      <td>-0.768454</td>\n",
       "      <td>-4.573591</td>\n",
       "    </tr>\n",
       "    <tr>\n",
       "      <th>AACGACAAGGACCGCT-1</th>\n",
       "      <td>-4.901626</td>\n",
       "      <td>-0.366557</td>\n",
       "      <td>7.997086</td>\n",
       "      <td>-4.479526</td>\n",
       "      <td>-0.418263</td>\n",
       "      <td>-7.347968</td>\n",
       "      <td>4.021302</td>\n",
       "      <td>-5.009599</td>\n",
       "      <td>-2.311113</td>\n",
       "      <td>-5.598698</td>\n",
       "    </tr>\n",
       "    <tr>\n",
       "      <th>AACAGGATCATCACTT-1</th>\n",
       "      <td>-8.165175</td>\n",
       "      <td>0.094383</td>\n",
       "      <td>10.642797</td>\n",
       "      <td>-6.025104</td>\n",
       "      <td>-1.220338</td>\n",
       "      <td>-11.612317</td>\n",
       "      <td>6.191409</td>\n",
       "      <td>-5.790230</td>\n",
       "      <td>-2.359447</td>\n",
       "      <td>-4.663640</td>\n",
       "    </tr>\n",
       "    <tr>\n",
       "      <th>AACCGGCTCGATCAGT-1</th>\n",
       "      <td>-7.082474</td>\n",
       "      <td>-1.445342</td>\n",
       "      <td>9.344357</td>\n",
       "      <td>-5.344437</td>\n",
       "      <td>-1.262001</td>\n",
       "      <td>-9.807787</td>\n",
       "      <td>5.113561</td>\n",
       "      <td>-5.087104</td>\n",
       "      <td>-1.816845</td>\n",
       "      <td>-5.846072</td>\n",
       "    </tr>\n",
       "  </tbody>\n",
       "</table>\n",
       "</div>"
      ],
      "text/plain": [
       "                         D0-0      D0-1       D0-2       D0-3      D0-4  \\\n",
       "AACAAGCCAGGTTCAC-1 -11.653465 -2.619335  14.745419 -12.953723 -0.711892   \n",
       "AAAGGTTAGGGTGGAT-1  -3.506031 -0.722704   3.907086  -2.428740 -0.466056   \n",
       "AACGACAAGGACCGCT-1  -4.901626 -0.366557   7.997086  -4.479526 -0.418263   \n",
       "AACAGGATCATCACTT-1  -8.165175  0.094383  10.642797  -6.025104 -1.220338   \n",
       "AACCGGCTCGATCAGT-1  -7.082474 -1.445342   9.344357  -5.344437 -1.262001   \n",
       "\n",
       "                         D0-5       D0-6       D0-7      D0-8      D0-9  \n",
       "AACAAGCCAGGTTCAC-1 -17.268864  11.574628 -10.910970 -5.023945 -5.228242  \n",
       "AAAGGTTAGGGTGGAT-1  -3.780588   3.428963  -2.429952 -0.768454 -4.573591  \n",
       "AACGACAAGGACCGCT-1  -7.347968   4.021302  -5.009599 -2.311113 -5.598698  \n",
       "AACAGGATCATCACTT-1 -11.612317   6.191409  -5.790230 -2.359447 -4.663640  \n",
       "AACCGGCTCGATCAGT-1  -9.807787   5.113561  -5.087104 -1.816845 -5.846072  "
      ]
     },
     "execution_count": 1,
     "metadata": {},
     "output_type": "execute_result"
    }
   ],
   "source": [
    "latent.head()"
   ]
  },
  {
   "cell_type": "markdown",
   "id": "b7fb5088",
   "metadata": {},
   "source": [
    "## 5) Obtain feature imputation"
   ]
  },
  {
   "cell_type": "markdown",
   "id": "cfe72f07",
   "metadata": {},
   "source": [
    "We can impute/predict feature using the impute method."
   ]
  },
  {
   "cell_type": "code",
   "execution_count": 11,
   "id": "6ec1c02d",
   "metadata": {
    "execution": {
     "iopub.execute_input": "2021-08-31T10:40:24.787068Z",
     "iopub.status.busy": "2021-08-31T10:40:24.786723Z",
     "iopub.status.idle": "2021-08-31T10:40:25.387815Z",
     "shell.execute_reply": "2021-08-31T10:40:25.388095Z"
    }
   },
   "outputs": [],
   "source": [
    "predicted = ensemble.impute(dataset)"
   ]
  },
  {
   "cell_type": "code",
   "execution_count": 12,
   "id": "b7c6178d",
   "metadata": {
    "execution": {
     "iopub.execute_input": "2021-08-31T10:40:25.392046Z",
     "iopub.status.busy": "2021-08-31T10:40:25.391704Z",
     "iopub.status.idle": "2021-08-31T10:40:25.394326Z",
     "shell.execute_reply": "2021-08-31T10:40:25.394587Z"
    }
   },
   "outputs": [
    {
     "data": {
      "text/plain": [
       "(100, 35300)"
      ]
     },
     "execution_count": 1,
     "metadata": {},
     "output_type": "execute_result"
    }
   ],
   "source": [
    "predicted[0].shape"
   ]
  },
  {
   "cell_type": "markdown",
   "id": "703d28f6",
   "metadata": {},
   "source": [
    "## 6) Obtain a feature importance attribution"
   ]
  },
  {
   "cell_type": "markdown",
   "id": "1bf1a1a5",
   "metadata": {},
   "source": [
    "Given a selection of one or more similar cells, we can ask for an explanation regarding to the most relevant input features.\n",
    "\n",
    "The result will average the input attributions across the selected cells. "
   ]
  },
  {
   "cell_type": "code",
   "execution_count": 13,
   "id": "adb6bf67",
   "metadata": {
    "execution": {
     "iopub.execute_input": "2021-08-31T10:40:25.397755Z",
     "iopub.status.busy": "2021-08-31T10:40:25.397383Z",
     "iopub.status.idle": "2021-08-31T10:40:25.399375Z",
     "shell.execute_reply": "2021-08-31T10:40:25.399092Z"
    }
   },
   "outputs": [],
   "source": [
    "# select 5 cells\n",
    "selected_cells = latent.index.tolist()[:5]"
   ]
  },
  {
   "cell_type": "markdown",
   "id": "5cdbe315",
   "metadata": {},
   "source": [
    "get the feature attributions"
   ]
  },
  {
   "cell_type": "code",
   "execution_count": 14,
   "id": "9a296688",
   "metadata": {
    "execution": {
     "iopub.execute_input": "2021-08-31T10:40:25.403506Z",
     "iopub.status.busy": "2021-08-31T10:40:25.403141Z",
     "iopub.status.idle": "2021-08-31T10:40:25.923185Z",
     "shell.execute_reply": "2021-08-31T10:40:25.922891Z"
    }
   },
   "outputs": [],
   "source": [
    "attributed = ensemble.explain(dataset, cellids=selected_cells)"
   ]
  },
  {
   "cell_type": "markdown",
   "id": "37a08923",
   "metadata": {},
   "source": [
    "The attribution dimensions are given by the input feature dimension and the latent feature dimension of the encoder"
   ]
  },
  {
   "cell_type": "code",
   "execution_count": 15,
   "id": "b3598866",
   "metadata": {
    "execution": {
     "iopub.execute_input": "2021-08-31T10:40:25.927116Z",
     "iopub.status.busy": "2021-08-31T10:40:25.926750Z",
     "iopub.status.idle": "2021-08-31T10:40:25.929321Z",
     "shell.execute_reply": "2021-08-31T10:40:25.929007Z"
    }
   },
   "outputs": [
    {
     "data": {
      "text/plain": [
       "array([[ 0.,  0.,  0., ...,  0.,  0.,  0.],\n",
       "       [ 0.,  0.,  0., ..., -0.,  0., -0.],\n",
       "       [-0.,  0.,  0., ..., -0.,  0.,  0.],\n",
       "       ...,\n",
       "       [-0.,  0., -0., ...,  0.,  0., -0.],\n",
       "       [ 0.,  0.,  0., ..., -0., -0., -0.],\n",
       "       [-0., -0., -0., ...,  0.,  0., -0.]])"
      ]
     },
     "execution_count": 1,
     "metadata": {},
     "output_type": "execute_result"
    }
   ],
   "source": [
    "attributed[0]"
   ]
  }
 ],
 "metadata": {
  "kernelspec": {
   "display_name": "Python 3",
   "language": "python",
   "name": "python3"
  },
  "language_info": {
   "codemirror_mode": {
    "name": "ipython",
    "version": 3
   },
   "file_extension": ".py",
   "mimetype": "text/x-python",
   "name": "python",
   "nbconvert_exporter": "python",
   "pygments_lexer": "ipython3",
   "version": "3.7.10"
  }
 },
 "nbformat": 4,
 "nbformat_minor": 5
}
